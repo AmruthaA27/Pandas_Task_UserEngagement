{
  "nbformat": 4,
  "nbformat_minor": 0,
  "metadata": {
    "colab": {
      "name": "Assignment3_task5.ipynb",
      "provenance": [],
      "authorship_tag": "ABX9TyMeCKq6ZWGPhECDUItlyQDg",
      "include_colab_link": true
    },
    "kernelspec": {
      "name": "python3",
      "display_name": "Python 3"
    },
    "language_info": {
      "name": "python"
    }
  },
  "cells": [
    {
      "cell_type": "markdown",
      "metadata": {
        "id": "view-in-github",
        "colab_type": "text"
      },
      "source": [
        "<a href=\"https://colab.research.google.com/github/AmruthaA27/Pandas_Task_UserEngagement/blob/main/Assignment3_task5.ipynb\" target=\"_parent\"><img src=\"https://colab.research.google.com/assets/colab-badge.svg\" alt=\"Open In Colab\"/></a>"
      ]
    },
    {
      "cell_type": "code",
      "execution_count": 1,
      "metadata": {
        "id": "lbSxx3X0AjNU"
      },
      "outputs": [],
      "source": [
        "import pandas as pd\n",
        "import numpy as np\n",
        "import csv\n",
        "\n",
        "df1 = pd.read_csv(\"takehome_users.csv\",encoding='latin-1')\n",
        "df2 = pd.read_csv('takehome_user_engagement.csv')\n",
        "df3 = pd.read_csv('User_Engagement_fianl.csv',encoding='latin-1')\n"
      ]
    },
    {
      "cell_type": "code",
      "source": [
        "user_login_count = df3.groupby(['user_id']).size()\n",
        "print(user_login_count)"
      ],
      "metadata": {
        "colab": {
          "base_uri": "https://localhost:8080/"
        },
        "id": "Spc-_hjMDslW",
        "outputId": "d7659226-26de-4643-a318-cd41a3af103c"
      },
      "execution_count": 2,
      "outputs": [
        {
          "output_type": "stream",
          "name": "stdout",
          "text": [
            "user_id\n",
            "1         1\n",
            "2        14\n",
            "3         1\n",
            "4         1\n",
            "5         1\n",
            "         ..\n",
            "11996     1\n",
            "11997     1\n",
            "11998     1\n",
            "11999     1\n",
            "12000     1\n",
            "Length: 8823, dtype: int64\n"
          ]
        }
      ]
    },
    {
      "cell_type": "code",
      "source": [
        "#to find present adopted users\n",
        "from datetime import datetime, timedelta\n",
        "df4 = df3[['user_id', 'time_stamp']].copy()\n",
        "Adopted_dict = {}\n",
        "x = timedelta(days = 7)\n",
        "#x = '7 days 00:00:00'\n",
        "print(x)\n",
        "for i in range(1,12000):\n",
        "  #print(i)\n",
        "  df5 = df4[df4['user_id']==i]\n",
        "  timeSeries = pd.to_datetime(df5['time_stamp'].tolist())\n",
        "  #print(timeSeries)\n",
        "  y = len(timeSeries)\n",
        "  if len(timeSeries)>=3:\n",
        "    for j in range(0,y-2):\n",
        "      diff = timeSeries[j+2]-timeSeries[j]\n",
        "      #print(diff)\n",
        "      if diff<= x:\n",
        "       Adopted_dict[i] = 'Adopted'\n",
        "       break\n",
        "print(Adopted_dict)\n",
        "\n",
        "adopted_users = list(Adopted_dict.keys())\n",
        "print(adopted_users)\n",
        "print(len(adopted_users))\n"
      ],
      "metadata": {
        "colab": {
          "base_uri": "https://localhost:8080/"
        },
        "id": "htl3CRwEHdLV",
        "outputId": "5b84a531-47e6-4c83-a5f0-ba8ac6717224"
      },
      "execution_count": 3,
      "outputs": [
        {
          "output_type": "stream",
          "name": "stdout",
          "text": [
            "7 days, 0:00:00\n",
            "{2: 'Adopted', 10: 'Adopted', 20: 'Adopted', 33: 'Adopted', 42: 'Adopted', 43: 'Adopted', 50: 'Adopted', 53: 'Adopted', 60: 'Adopted', 63: 'Adopted', 69: 'Adopted', 74: 'Adopted', 80: 'Adopted', 81: 'Adopted', 82: 'Adopted', 87: 'Adopted', 133: 'Adopted', 135: 'Adopted', 141: 'Adopted', 146: 'Adopted', 153: 'Adopted', 160: 'Adopted', 165: 'Adopted', 168: 'Adopted', 172: 'Adopted', 174: 'Adopted', 185: 'Adopted', 188: 'Adopted', 197: 'Adopted', 200: 'Adopted', 202: 'Adopted', 203: 'Adopted', 209: 'Adopted', 214: 'Adopted', 230: 'Adopted', 245: 'Adopted', 247: 'Adopted', 263: 'Adopted', 265: 'Adopted', 275: 'Adopted', 280: 'Adopted', 283: 'Adopted', 297: 'Adopted', 298: 'Adopted', 305: 'Adopted', 310: 'Adopted', 311: 'Adopted', 321: 'Adopted', 322: 'Adopted', 341: 'Adopted', 345: 'Adopted', 347: 'Adopted', 351: 'Adopted', 362: 'Adopted', 363: 'Adopted', 370: 'Adopted', 383: 'Adopted', 397: 'Adopted', 401: 'Adopted', 418: 'Adopted', 430: 'Adopted', 445: 'Adopted', 450: 'Adopted', 460: 'Adopted', 462: 'Adopted', 469: 'Adopted', 471: 'Adopted', 472: 'Adopted', 478: 'Adopted', 479: 'Adopted', 483: 'Adopted', 492: 'Adopted', 494: 'Adopted', 497: 'Adopted', 502: 'Adopted', 506: 'Adopted', 509: 'Adopted', 510: 'Adopted', 512: 'Adopted', 518: 'Adopted', 520: 'Adopted', 522: 'Adopted', 529: 'Adopted', 535: 'Adopted', 540: 'Adopted', 547: 'Adopted', 553: 'Adopted', 564: 'Adopted', 572: 'Adopted', 589: 'Adopted', 591: 'Adopted', 601: 'Adopted', 603: 'Adopted', 605: 'Adopted', 618: 'Adopted', 627: 'Adopted', 628: 'Adopted', 632: 'Adopted', 634: 'Adopted', 639: 'Adopted', 669: 'Adopted', 679: 'Adopted', 680: 'Adopted', 717: 'Adopted', 724: 'Adopted', 725: 'Adopted', 728: 'Adopted', 754: 'Adopted', 772: 'Adopted', 783: 'Adopted', 786: 'Adopted', 804: 'Adopted', 828: 'Adopted', 845: 'Adopted', 851: 'Adopted', 869: 'Adopted', 874: 'Adopted', 882: 'Adopted', 885: 'Adopted', 901: 'Adopted', 906: 'Adopted', 907: 'Adopted', 912: 'Adopted', 928: 'Adopted', 932: 'Adopted', 934: 'Adopted', 937: 'Adopted', 943: 'Adopted', 953: 'Adopted', 980: 'Adopted', 985: 'Adopted', 1007: 'Adopted', 1009: 'Adopted', 1013: 'Adopted', 1017: 'Adopted', 1018: 'Adopted', 1026: 'Adopted', 1027: 'Adopted', 1035: 'Adopted', 1039: 'Adopted', 1055: 'Adopted', 1061: 'Adopted', 1072: 'Adopted', 1089: 'Adopted', 1093: 'Adopted', 1094: 'Adopted', 1099: 'Adopted', 1106: 'Adopted', 1107: 'Adopted', 1119: 'Adopted', 1123: 'Adopted', 1124: 'Adopted', 1128: 'Adopted', 1129: 'Adopted', 1136: 'Adopted', 1145: 'Adopted', 1150: 'Adopted', 1151: 'Adopted', 1155: 'Adopted', 1156: 'Adopted', 1163: 'Adopted', 1173: 'Adopted', 1186: 'Adopted', 1196: 'Adopted', 1202: 'Adopted', 1212: 'Adopted', 1214: 'Adopted', 1222: 'Adopted', 1233: 'Adopted', 1235: 'Adopted', 1238: 'Adopted', 1242: 'Adopted', 1245: 'Adopted', 1250: 'Adopted', 1274: 'Adopted', 1280: 'Adopted', 1290: 'Adopted', 1303: 'Adopted', 1318: 'Adopted', 1319: 'Adopted', 1320: 'Adopted', 1327: 'Adopted', 1339: 'Adopted', 1343: 'Adopted', 1345: 'Adopted', 1350: 'Adopted', 1357: 'Adopted', 1361: 'Adopted', 1368: 'Adopted', 1379: 'Adopted', 1396: 'Adopted', 1407: 'Adopted', 1410: 'Adopted', 1411: 'Adopted', 1421: 'Adopted', 1434: 'Adopted', 1464: 'Adopted', 1472: 'Adopted', 1476: 'Adopted', 1479: 'Adopted', 1480: 'Adopted', 1481: 'Adopted', 1485: 'Adopted', 1506: 'Adopted', 1507: 'Adopted', 1508: 'Adopted', 1525: 'Adopted', 1546: 'Adopted', 1555: 'Adopted', 1561: 'Adopted', 1576: 'Adopted', 1581: 'Adopted', 1592: 'Adopted', 1598: 'Adopted', 1617: 'Adopted', 1624: 'Adopted', 1641: 'Adopted', 1663: 'Adopted', 1665: 'Adopted', 1666: 'Adopted', 1671: 'Adopted', 1672: 'Adopted', 1681: 'Adopted', 1690: 'Adopted', 1693: 'Adopted', 1694: 'Adopted', 1709: 'Adopted', 1714: 'Adopted', 1716: 'Adopted', 1717: 'Adopted', 1722: 'Adopted', 1726: 'Adopted', 1730: 'Adopted', 1740: 'Adopted', 1754: 'Adopted', 1758: 'Adopted', 1759: 'Adopted', 1769: 'Adopted', 1770: 'Adopted', 1781: 'Adopted', 1783: 'Adopted', 1786: 'Adopted', 1811: 'Adopted', 1816: 'Adopted', 1820: 'Adopted', 1821: 'Adopted', 1822: 'Adopted', 1825: 'Adopted', 1836: 'Adopted', 1845: 'Adopted', 1865: 'Adopted', 1872: 'Adopted', 1879: 'Adopted', 1885: 'Adopted', 1897: 'Adopted', 1907: 'Adopted', 1930: 'Adopted', 1941: 'Adopted', 1944: 'Adopted', 1954: 'Adopted', 1974: 'Adopted', 1993: 'Adopted', 1999: 'Adopted', 2002: 'Adopted', 2009: 'Adopted', 2011: 'Adopted', 2013: 'Adopted', 2025: 'Adopted', 2033: 'Adopted', 2037: 'Adopted', 2038: 'Adopted', 2042: 'Adopted', 2043: 'Adopted', 2049: 'Adopted', 2056: 'Adopted', 2073: 'Adopted', 2074: 'Adopted', 2078: 'Adopted', 2080: 'Adopted', 2103: 'Adopted', 2111: 'Adopted', 2112: 'Adopted', 2113: 'Adopted', 2124: 'Adopted', 2129: 'Adopted', 2159: 'Adopted', 2160: 'Adopted', 2171: 'Adopted', 2176: 'Adopted', 2193: 'Adopted', 2199: 'Adopted', 2201: 'Adopted', 2239: 'Adopted', 2241: 'Adopted', 2246: 'Adopted', 2253: 'Adopted', 2270: 'Adopted', 2271: 'Adopted', 2278: 'Adopted', 2282: 'Adopted', 2286: 'Adopted', 2289: 'Adopted', 2290: 'Adopted', 2297: 'Adopted', 2300: 'Adopted', 2307: 'Adopted', 2312: 'Adopted', 2316: 'Adopted', 2322: 'Adopted', 2324: 'Adopted', 2333: 'Adopted', 2337: 'Adopted', 2339: 'Adopted', 2357: 'Adopted', 2361: 'Adopted', 2371: 'Adopted', 2390: 'Adopted', 2399: 'Adopted', 2400: 'Adopted', 2406: 'Adopted', 2425: 'Adopted', 2435: 'Adopted', 2438: 'Adopted', 2447: 'Adopted', 2474: 'Adopted', 2481: 'Adopted', 2490: 'Adopted', 2495: 'Adopted', 2502: 'Adopted', 2519: 'Adopted', 2539: 'Adopted', 2544: 'Adopted', 2548: 'Adopted', 2557: 'Adopted', 2566: 'Adopted', 2568: 'Adopted', 2569: 'Adopted', 2570: 'Adopted', 2571: 'Adopted', 2583: 'Adopted', 2587: 'Adopted', 2590: 'Adopted', 2604: 'Adopted', 2610: 'Adopted', 2615: 'Adopted', 2618: 'Adopted', 2620: 'Adopted', 2622: 'Adopted', 2626: 'Adopted', 2636: 'Adopted', 2641: 'Adopted', 2645: 'Adopted', 2647: 'Adopted', 2658: 'Adopted', 2672: 'Adopted', 2681: 'Adopted', 2713: 'Adopted', 2723: 'Adopted', 2724: 'Adopted', 2727: 'Adopted', 2731: 'Adopted', 2739: 'Adopted', 2744: 'Adopted', 2750: 'Adopted', 2762: 'Adopted', 2771: 'Adopted', 2787: 'Adopted', 2798: 'Adopted', 2809: 'Adopted', 2832: 'Adopted', 2836: 'Adopted', 2841: 'Adopted', 2843: 'Adopted', 2851: 'Adopted', 2857: 'Adopted', 2859: 'Adopted', 2866: 'Adopted', 2870: 'Adopted', 2881: 'Adopted', 2886: 'Adopted', 2887: 'Adopted', 2889: 'Adopted', 2891: 'Adopted', 2895: 'Adopted', 2915: 'Adopted', 2918: 'Adopted', 2921: 'Adopted', 2931: 'Adopted', 2939: 'Adopted', 2945: 'Adopted', 2946: 'Adopted', 2948: 'Adopted', 2952: 'Adopted', 2969: 'Adopted', 2974: 'Adopted', 2979: 'Adopted', 2993: 'Adopted', 3014: 'Adopted', 3017: 'Adopted', 3018: 'Adopted', 3025: 'Adopted', 3026: 'Adopted', 3028: 'Adopted', 3032: 'Adopted', 3036: 'Adopted', 3039: 'Adopted', 3046: 'Adopted', 3052: 'Adopted', 3053: 'Adopted', 3059: 'Adopted', 3063: 'Adopted', 3066: 'Adopted', 3067: 'Adopted', 3071: 'Adopted', 3076: 'Adopted', 3077: 'Adopted', 3080: 'Adopted', 3081: 'Adopted', 3087: 'Adopted', 3093: 'Adopted', 3100: 'Adopted', 3112: 'Adopted', 3113: 'Adopted', 3125: 'Adopted', 3137: 'Adopted', 3139: 'Adopted', 3145: 'Adopted', 3160: 'Adopted', 3163: 'Adopted', 3175: 'Adopted', 3179: 'Adopted', 3180: 'Adopted', 3185: 'Adopted', 3193: 'Adopted', 3194: 'Adopted', 3204: 'Adopted', 3205: 'Adopted', 3207: 'Adopted', 3217: 'Adopted', 3222: 'Adopted', 3226: 'Adopted', 3232: 'Adopted', 3235: 'Adopted', 3238: 'Adopted', 3239: 'Adopted', 3240: 'Adopted', 3244: 'Adopted', 3269: 'Adopted', 3273: 'Adopted', 3280: 'Adopted', 3294: 'Adopted', 3311: 'Adopted', 3317: 'Adopted', 3324: 'Adopted', 3332: 'Adopted', 3338: 'Adopted', 3339: 'Adopted', 3347: 'Adopted', 3353: 'Adopted', 3360: 'Adopted', 3370: 'Adopted', 3378: 'Adopted', 3381: 'Adopted', 3387: 'Adopted', 3389: 'Adopted', 3390: 'Adopted', 3397: 'Adopted', 3405: 'Adopted', 3409: 'Adopted', 3411: 'Adopted', 3426: 'Adopted', 3428: 'Adopted', 3436: 'Adopted', 3451: 'Adopted', 3463: 'Adopted', 3481: 'Adopted', 3484: 'Adopted', 3493: 'Adopted', 3502: 'Adopted', 3517: 'Adopted', 3522: 'Adopted', 3525: 'Adopted', 3531: 'Adopted', 3541: 'Adopted', 3546: 'Adopted', 3556: 'Adopted', 3560: 'Adopted', 3561: 'Adopted', 3562: 'Adopted', 3567: 'Adopted', 3574: 'Adopted', 3577: 'Adopted', 3578: 'Adopted', 3592: 'Adopted', 3593: 'Adopted', 3597: 'Adopted', 3598: 'Adopted', 3601: 'Adopted', 3609: 'Adopted', 3612: 'Adopted', 3617: 'Adopted', 3623: 'Adopted', 3638: 'Adopted', 3641: 'Adopted', 3642: 'Adopted', 3644: 'Adopted', 3652: 'Adopted', 3671: 'Adopted', 3673: 'Adopted', 3675: 'Adopted', 3695: 'Adopted', 3705: 'Adopted', 3717: 'Adopted', 3718: 'Adopted', 3739: 'Adopted', 3749: 'Adopted', 3752: 'Adopted', 3757: 'Adopted', 3758: 'Adopted', 3762: 'Adopted', 3765: 'Adopted', 3772: 'Adopted', 3774: 'Adopted', 3802: 'Adopted', 3804: 'Adopted', 3812: 'Adopted', 3819: 'Adopted', 3824: 'Adopted', 3832: 'Adopted', 3843: 'Adopted', 3852: 'Adopted', 3859: 'Adopted', 3862: 'Adopted', 3863: 'Adopted', 3866: 'Adopted', 3867: 'Adopted', 3881: 'Adopted', 3882: 'Adopted', 3906: 'Adopted', 3915: 'Adopted', 3946: 'Adopted', 3956: 'Adopted', 3957: 'Adopted', 3960: 'Adopted', 3970: 'Adopted', 4007: 'Adopted', 4009: 'Adopted', 4017: 'Adopted', 4018: 'Adopted', 4019: 'Adopted', 4022: 'Adopted', 4029: 'Adopted', 4031: 'Adopted', 4041: 'Adopted', 4043: 'Adopted', 4045: 'Adopted', 4052: 'Adopted', 4065: 'Adopted', 4067: 'Adopted', 4074: 'Adopted', 4086: 'Adopted', 4090: 'Adopted', 4093: 'Adopted', 4105: 'Adopted', 4106: 'Adopted', 4134: 'Adopted', 4140: 'Adopted', 4141: 'Adopted', 4143: 'Adopted', 4145: 'Adopted', 4156: 'Adopted', 4158: 'Adopted', 4167: 'Adopted', 4171: 'Adopted', 4181: 'Adopted', 4182: 'Adopted', 4184: 'Adopted', 4186: 'Adopted', 4203: 'Adopted', 4206: 'Adopted', 4208: 'Adopted', 4209: 'Adopted', 4216: 'Adopted', 4217: 'Adopted', 4218: 'Adopted', 4223: 'Adopted', 4234: 'Adopted', 4243: 'Adopted', 4244: 'Adopted', 4248: 'Adopted', 4255: 'Adopted', 4258: 'Adopted', 4263: 'Adopted', 4266: 'Adopted', 4268: 'Adopted', 4269: 'Adopted', 4278: 'Adopted', 4282: 'Adopted', 4295: 'Adopted', 4296: 'Adopted', 4317: 'Adopted', 4330: 'Adopted', 4335: 'Adopted', 4349: 'Adopted', 4350: 'Adopted', 4353: 'Adopted', 4354: 'Adopted', 4371: 'Adopted', 4384: 'Adopted', 4388: 'Adopted', 4396: 'Adopted', 4402: 'Adopted', 4403: 'Adopted', 4404: 'Adopted', 4421: 'Adopted', 4425: 'Adopted', 4428: 'Adopted', 4433: 'Adopted', 4444: 'Adopted', 4446: 'Adopted', 4467: 'Adopted', 4472: 'Adopted', 4481: 'Adopted', 4485: 'Adopted', 4489: 'Adopted', 4494: 'Adopted', 4497: 'Adopted', 4511: 'Adopted', 4513: 'Adopted', 4519: 'Adopted', 4558: 'Adopted', 4560: 'Adopted', 4561: 'Adopted', 4562: 'Adopted', 4564: 'Adopted', 4565: 'Adopted', 4569: 'Adopted', 4571: 'Adopted', 4576: 'Adopted', 4580: 'Adopted', 4582: 'Adopted', 4589: 'Adopted', 4600: 'Adopted', 4609: 'Adopted', 4611: 'Adopted', 4612: 'Adopted', 4616: 'Adopted', 4618: 'Adopted', 4619: 'Adopted', 4625: 'Adopted', 4680: 'Adopted', 4685: 'Adopted', 4709: 'Adopted', 4713: 'Adopted', 4715: 'Adopted', 4720: 'Adopted', 4730: 'Adopted', 4742: 'Adopted', 4745: 'Adopted', 4753: 'Adopted', 4760: 'Adopted', 4778: 'Adopted', 4780: 'Adopted', 4784: 'Adopted', 4785: 'Adopted', 4793: 'Adopted', 4803: 'Adopted', 4805: 'Adopted', 4812: 'Adopted', 4824: 'Adopted', 4826: 'Adopted', 4832: 'Adopted', 4835: 'Adopted', 4837: 'Adopted', 4839: 'Adopted', 4844: 'Adopted', 4854: 'Adopted', 4869: 'Adopted', 4870: 'Adopted', 4876: 'Adopted', 4884: 'Adopted', 4886: 'Adopted', 4902: 'Adopted', 4915: 'Adopted', 4921: 'Adopted', 4924: 'Adopted', 4934: 'Adopted', 4935: 'Adopted', 4943: 'Adopted', 4950: 'Adopted', 4954: 'Adopted', 4961: 'Adopted', 4965: 'Adopted', 4966: 'Adopted', 4969: 'Adopted', 4974: 'Adopted', 4992: 'Adopted', 5013: 'Adopted', 5015: 'Adopted', 5027: 'Adopted', 5057: 'Adopted', 5063: 'Adopted', 5067: 'Adopted', 5069: 'Adopted', 5071: 'Adopted', 5073: 'Adopted', 5100: 'Adopted', 5101: 'Adopted', 5103: 'Adopted', 5115: 'Adopted', 5127: 'Adopted', 5151: 'Adopted', 5153: 'Adopted', 5156: 'Adopted', 5157: 'Adopted', 5160: 'Adopted', 5167: 'Adopted', 5173: 'Adopted', 5180: 'Adopted', 5200: 'Adopted', 5210: 'Adopted', 5211: 'Adopted', 5215: 'Adopted', 5225: 'Adopted', 5240: 'Adopted', 5243: 'Adopted', 5259: 'Adopted', 5281: 'Adopted', 5297: 'Adopted', 5301: 'Adopted', 5307: 'Adopted', 5309: 'Adopted', 5329: 'Adopted', 5350: 'Adopted', 5351: 'Adopted', 5360: 'Adopted', 5362: 'Adopted', 5364: 'Adopted', 5365: 'Adopted', 5369: 'Adopted', 5378: 'Adopted', 5385: 'Adopted', 5386: 'Adopted', 5397: 'Adopted', 5407: 'Adopted', 5412: 'Adopted', 5415: 'Adopted', 5426: 'Adopted', 5428: 'Adopted', 5432: 'Adopted', 5441: 'Adopted', 5445: 'Adopted', 5456: 'Adopted', 5463: 'Adopted', 5467: 'Adopted', 5479: 'Adopted', 5483: 'Adopted', 5494: 'Adopted', 5507: 'Adopted', 5508: 'Adopted', 5514: 'Adopted', 5516: 'Adopted', 5527: 'Adopted', 5528: 'Adopted', 5532: 'Adopted', 5547: 'Adopted', 5551: 'Adopted', 5552: 'Adopted', 5557: 'Adopted', 5560: 'Adopted', 5571: 'Adopted', 5579: 'Adopted', 5586: 'Adopted', 5600: 'Adopted', 5607: 'Adopted', 5609: 'Adopted', 5620: 'Adopted', 5623: 'Adopted', 5638: 'Adopted', 5645: 'Adopted', 5655: 'Adopted', 5663: 'Adopted', 5666: 'Adopted', 5677: 'Adopted', 5681: 'Adopted', 5682: 'Adopted', 5685: 'Adopted', 5704: 'Adopted', 5705: 'Adopted', 5714: 'Adopted', 5718: 'Adopted', 5721: 'Adopted', 5722: 'Adopted', 5723: 'Adopted', 5725: 'Adopted', 5726: 'Adopted', 5741: 'Adopted', 5743: 'Adopted', 5756: 'Adopted', 5777: 'Adopted', 5806: 'Adopted', 5828: 'Adopted', 5830: 'Adopted', 5832: 'Adopted', 5840: 'Adopted', 5847: 'Adopted', 5850: 'Adopted', 5853: 'Adopted', 5861: 'Adopted', 5866: 'Adopted', 5892: 'Adopted', 5900: 'Adopted', 5905: 'Adopted', 5915: 'Adopted', 5918: 'Adopted', 5927: 'Adopted', 5939: 'Adopted', 5944: 'Adopted', 5950: 'Adopted', 5960: 'Adopted', 5965: 'Adopted', 5970: 'Adopted', 5977: 'Adopted', 5993: 'Adopted', 6016: 'Adopted', 6033: 'Adopted', 6044: 'Adopted', 6050: 'Adopted', 6061: 'Adopted', 6064: 'Adopted', 6070: 'Adopted', 6096: 'Adopted', 6100: 'Adopted', 6103: 'Adopted', 6108: 'Adopted', 6114: 'Adopted', 6126: 'Adopted', 6134: 'Adopted', 6135: 'Adopted', 6136: 'Adopted', 6148: 'Adopted', 6152: 'Adopted', 6170: 'Adopted', 6171: 'Adopted', 6180: 'Adopted', 6184: 'Adopted', 6187: 'Adopted', 6198: 'Adopted', 6204: 'Adopted', 6205: 'Adopted', 6210: 'Adopted', 6217: 'Adopted', 6232: 'Adopted', 6236: 'Adopted', 6238: 'Adopted', 6239: 'Adopted', 6242: 'Adopted', 6246: 'Adopted', 6258: 'Adopted', 6266: 'Adopted', 6270: 'Adopted', 6279: 'Adopted', 6281: 'Adopted', 6282: 'Adopted', 6284: 'Adopted', 6285: 'Adopted', 6293: 'Adopted', 6296: 'Adopted', 6302: 'Adopted', 6305: 'Adopted', 6312: 'Adopted', 6321: 'Adopted', 6322: 'Adopted', 6342: 'Adopted', 6349: 'Adopted', 6357: 'Adopted', 6367: 'Adopted', 6370: 'Adopted', 6388: 'Adopted', 6393: 'Adopted', 6401: 'Adopted', 6405: 'Adopted', 6416: 'Adopted', 6419: 'Adopted', 6427: 'Adopted', 6438: 'Adopted', 6462: 'Adopted', 6463: 'Adopted', 6464: 'Adopted', 6470: 'Adopted', 6482: 'Adopted', 6504: 'Adopted', 6506: 'Adopted', 6517: 'Adopted', 6532: 'Adopted', 6590: 'Adopted', 6597: 'Adopted', 6609: 'Adopted', 6617: 'Adopted', 6623: 'Adopted', 6627: 'Adopted', 6633: 'Adopted', 6637: 'Adopted', 6638: 'Adopted', 6640: 'Adopted', 6653: 'Adopted', 6654: 'Adopted', 6662: 'Adopted', 6688: 'Adopted', 6729: 'Adopted', 6731: 'Adopted', 6733: 'Adopted', 6734: 'Adopted', 6741: 'Adopted', 6742: 'Adopted', 6751: 'Adopted', 6757: 'Adopted', 6759: 'Adopted', 6771: 'Adopted', 6782: 'Adopted', 6786: 'Adopted', 6810: 'Adopted', 6827: 'Adopted', 6832: 'Adopted', 6835: 'Adopted', 6851: 'Adopted', 6856: 'Adopted', 6862: 'Adopted', 6865: 'Adopted', 6866: 'Adopted', 6870: 'Adopted', 6886: 'Adopted', 6893: 'Adopted', 6894: 'Adopted', 6895: 'Adopted', 6909: 'Adopted', 6913: 'Adopted', 6914: 'Adopted', 6922: 'Adopted', 6924: 'Adopted', 6938: 'Adopted', 6956: 'Adopted', 6963: 'Adopted', 6965: 'Adopted', 6966: 'Adopted', 6971: 'Adopted', 6978: 'Adopted', 6981: 'Adopted', 6982: 'Adopted', 6988: 'Adopted', 6992: 'Adopted', 6993: 'Adopted', 6998: 'Adopted', 7004: 'Adopted', 7015: 'Adopted', 7019: 'Adopted', 7023: 'Adopted', 7029: 'Adopted', 7071: 'Adopted', 7074: 'Adopted', 7096: 'Adopted', 7097: 'Adopted', 7101: 'Adopted', 7104: 'Adopted', 7107: 'Adopted', 7111: 'Adopted', 7114: 'Adopted', 7120: 'Adopted', 7131: 'Adopted', 7153: 'Adopted', 7156: 'Adopted', 7172: 'Adopted', 7173: 'Adopted', 7192: 'Adopted', 7194: 'Adopted', 7198: 'Adopted', 7205: 'Adopted', 7209: 'Adopted', 7210: 'Adopted', 7215: 'Adopted', 7234: 'Adopted', 7242: 'Adopted', 7248: 'Adopted', 7257: 'Adopted', 7283: 'Adopted', 7301: 'Adopted', 7323: 'Adopted', 7327: 'Adopted', 7351: 'Adopted', 7362: 'Adopted', 7375: 'Adopted', 7378: 'Adopted', 7380: 'Adopted', 7384: 'Adopted', 7386: 'Adopted', 7398: 'Adopted', 7399: 'Adopted', 7401: 'Adopted', 7403: 'Adopted', 7405: 'Adopted', 7409: 'Adopted', 7411: 'Adopted', 7431: 'Adopted', 7436: 'Adopted', 7441: 'Adopted', 7443: 'Adopted', 7449: 'Adopted', 7450: 'Adopted', 7475: 'Adopted', 7493: 'Adopted', 7511: 'Adopted', 7518: 'Adopted', 7529: 'Adopted', 7536: 'Adopted', 7538: 'Adopted', 7544: 'Adopted', 7555: 'Adopted', 7556: 'Adopted', 7572: 'Adopted', 7587: 'Adopted', 7590: 'Adopted', 7598: 'Adopted', 7600: 'Adopted', 7608: 'Adopted', 7613: 'Adopted', 7618: 'Adopted', 7624: 'Adopted', 7641: 'Adopted', 7644: 'Adopted', 7654: 'Adopted', 7655: 'Adopted', 7670: 'Adopted', 7678: 'Adopted', 7682: 'Adopted', 7683: 'Adopted', 7688: 'Adopted', 7691: 'Adopted', 7696: 'Adopted', 7697: 'Adopted', 7705: 'Adopted', 7707: 'Adopted', 7720: 'Adopted', 7760: 'Adopted', 7764: 'Adopted', 7772: 'Adopted', 7774: 'Adopted', 7786: 'Adopted', 7789: 'Adopted', 7792: 'Adopted', 7798: 'Adopted', 7805: 'Adopted', 7813: 'Adopted', 7818: 'Adopted', 7820: 'Adopted', 7827: 'Adopted', 7839: 'Adopted', 7848: 'Adopted', 7858: 'Adopted', 7859: 'Adopted', 7868: 'Adopted', 7873: 'Adopted', 7878: 'Adopted', 7882: 'Adopted', 7896: 'Adopted', 7897: 'Adopted', 7899: 'Adopted', 7905: 'Adopted', 7920: 'Adopted', 7926: 'Adopted', 7927: 'Adopted', 7939: 'Adopted', 7951: 'Adopted', 7970: 'Adopted', 7971: 'Adopted', 7979: 'Adopted', 7980: 'Adopted', 7989: 'Adopted', 7991: 'Adopted', 7999: 'Adopted', 8010: 'Adopted', 8022: 'Adopted', 8025: 'Adopted', 8029: 'Adopted', 8031: 'Adopted', 8033: 'Adopted', 8034: 'Adopted', 8037: 'Adopted', 8046: 'Adopted', 8048: 'Adopted', 8063: 'Adopted', 8068: 'Adopted', 8069: 'Adopted', 8070: 'Adopted', 8071: 'Adopted', 8075: 'Adopted', 8084: 'Adopted', 8091: 'Adopted', 8101: 'Adopted', 8104: 'Adopted', 8111: 'Adopted', 8123: 'Adopted', 8130: 'Adopted', 8134: 'Adopted', 8137: 'Adopted', 8149: 'Adopted', 8156: 'Adopted', 8159: 'Adopted', 8161: 'Adopted', 8166: 'Adopted', 8169: 'Adopted', 8191: 'Adopted', 8192: 'Adopted', 8196: 'Adopted', 8201: 'Adopted', 8214: 'Adopted', 8217: 'Adopted', 8220: 'Adopted', 8221: 'Adopted', 8232: 'Adopted', 8233: 'Adopted', 8235: 'Adopted', 8239: 'Adopted', 8243: 'Adopted', 8252: 'Adopted', 8255: 'Adopted', 8258: 'Adopted', 8259: 'Adopted', 8265: 'Adopted', 8270: 'Adopted', 8277: 'Adopted', 8278: 'Adopted', 8280: 'Adopted', 8294: 'Adopted', 8297: 'Adopted', 8310: 'Adopted', 8311: 'Adopted', 8319: 'Adopted', 8334: 'Adopted', 8348: 'Adopted', 8366: 'Adopted', 8371: 'Adopted', 8381: 'Adopted', 8383: 'Adopted', 8393: 'Adopted', 8394: 'Adopted', 8399: 'Adopted', 8401: 'Adopted', 8403: 'Adopted', 8408: 'Adopted', 8415: 'Adopted', 8426: 'Adopted', 8435: 'Adopted', 8440: 'Adopted', 8442: 'Adopted', 8448: 'Adopted', 8460: 'Adopted', 8463: 'Adopted', 8466: 'Adopted', 8493: 'Adopted', 8505: 'Adopted', 8507: 'Adopted', 8508: 'Adopted', 8511: 'Adopted', 8523: 'Adopted', 8538: 'Adopted', 8553: 'Adopted', 8569: 'Adopted', 8571: 'Adopted', 8581: 'Adopted', 8593: 'Adopted', 8595: 'Adopted', 8601: 'Adopted', 8602: 'Adopted', 8615: 'Adopted', 8622: 'Adopted', 8639: 'Adopted', 8640: 'Adopted', 8654: 'Adopted', 8673: 'Adopted', 8675: 'Adopted', 8677: 'Adopted', 8679: 'Adopted', 8689: 'Adopted', 8695: 'Adopted', 8701: 'Adopted', 8704: 'Adopted', 8706: 'Adopted', 8708: 'Adopted', 8712: 'Adopted', 8721: 'Adopted', 8725: 'Adopted', 8740: 'Adopted', 8741: 'Adopted', 8749: 'Adopted', 8750: 'Adopted', 8760: 'Adopted', 8767: 'Adopted', 8768: 'Adopted', 8769: 'Adopted', 8770: 'Adopted', 8779: 'Adopted', 8789: 'Adopted', 8790: 'Adopted', 8803: 'Adopted', 8806: 'Adopted', 8809: 'Adopted', 8811: 'Adopted', 8827: 'Adopted', 8832: 'Adopted', 8835: 'Adopted', 8837: 'Adopted', 8856: 'Adopted', 8857: 'Adopted', 8860: 'Adopted', 8862: 'Adopted', 8864: 'Adopted', 8869: 'Adopted', 8876: 'Adopted', 8880: 'Adopted', 8884: 'Adopted', 8899: 'Adopted', 8912: 'Adopted', 8918: 'Adopted', 8924: 'Adopted', 8932: 'Adopted', 8944: 'Adopted', 8945: 'Adopted', 8952: 'Adopted', 8955: 'Adopted', 8957: 'Adopted', 8989: 'Adopted', 9011: 'Adopted', 9013: 'Adopted', 9030: 'Adopted', 9031: 'Adopted', 9039: 'Adopted', 9042: 'Adopted', 9046: 'Adopted', 9060: 'Adopted', 9076: 'Adopted', 9079: 'Adopted', 9083: 'Adopted', 9089: 'Adopted', 9112: 'Adopted', 9113: 'Adopted', 9120: 'Adopted', 9142: 'Adopted', 9143: 'Adopted', 9145: 'Adopted', 9147: 'Adopted', 9157: 'Adopted', 9164: 'Adopted', 9172: 'Adopted', 9195: 'Adopted', 9222: 'Adopted', 9257: 'Adopted', 9269: 'Adopted', 9281: 'Adopted', 9286: 'Adopted', 9290: 'Adopted', 9295: 'Adopted', 9303: 'Adopted', 9306: 'Adopted', 9312: 'Adopted', 9322: 'Adopted', 9325: 'Adopted', 9343: 'Adopted', 9344: 'Adopted', 9345: 'Adopted', 9346: 'Adopted', 9358: 'Adopted', 9359: 'Adopted', 9362: 'Adopted', 9374: 'Adopted', 9381: 'Adopted', 9383: 'Adopted', 9390: 'Adopted', 9400: 'Adopted', 9402: 'Adopted', 9423: 'Adopted', 9432: 'Adopted', 9434: 'Adopted', 9435: 'Adopted', 9436: 'Adopted', 9445: 'Adopted', 9450: 'Adopted', 9461: 'Adopted', 9464: 'Adopted', 9470: 'Adopted', 9477: 'Adopted', 9479: 'Adopted', 9481: 'Adopted', 9486: 'Adopted', 9495: 'Adopted', 9504: 'Adopted', 9510: 'Adopted', 9524: 'Adopted', 9532: 'Adopted', 9535: 'Adopted', 9540: 'Adopted', 9542: 'Adopted', 9558: 'Adopted', 9559: 'Adopted', 9571: 'Adopted', 9580: 'Adopted', 9582: 'Adopted', 9584: 'Adopted', 9591: 'Adopted', 9593: 'Adopted', 9597: 'Adopted', 9601: 'Adopted', 9615: 'Adopted', 9616: 'Adopted', 9623: 'Adopted', 9635: 'Adopted', 9641: 'Adopted', 9644: 'Adopted', 9645: 'Adopted', 9652: 'Adopted', 9660: 'Adopted', 9670: 'Adopted', 9679: 'Adopted', 9683: 'Adopted', 9684: 'Adopted', 9691: 'Adopted', 9694: 'Adopted', 9695: 'Adopted', 9699: 'Adopted', 9717: 'Adopted', 9722: 'Adopted', 9724: 'Adopted', 9727: 'Adopted', 9728: 'Adopted', 9742: 'Adopted', 9746: 'Adopted', 9747: 'Adopted', 9751: 'Adopted', 9754: 'Adopted', 9768: 'Adopted', 9771: 'Adopted', 9786: 'Adopted', 9806: 'Adopted', 9823: 'Adopted', 9825: 'Adopted', 9833: 'Adopted', 9839: 'Adopted', 9841: 'Adopted', 9843: 'Adopted', 9845: 'Adopted', 9850: 'Adopted', 9852: 'Adopted', 9863: 'Adopted', 9868: 'Adopted', 9870: 'Adopted', 9889: 'Adopted', 9897: 'Adopted', 9901: 'Adopted', 9914: 'Adopted', 9925: 'Adopted', 9936: 'Adopted', 9941: 'Adopted', 9942: 'Adopted', 9947: 'Adopted', 9948: 'Adopted', 9958: 'Adopted', 9961: 'Adopted', 9963: 'Adopted', 9965: 'Adopted', 9968: 'Adopted', 9972: 'Adopted', 9974: 'Adopted', 9985: 'Adopted', 9991: 'Adopted', 9992: 'Adopted', 9994: 'Adopted', 9999: 'Adopted', 10002: 'Adopted', 10006: 'Adopted', 10011: 'Adopted', 10020: 'Adopted', 10022: 'Adopted', 10023: 'Adopted', 10025: 'Adopted', 10053: 'Adopted', 10059: 'Adopted', 10062: 'Adopted', 10100: 'Adopted', 10102: 'Adopted', 10104: 'Adopted', 10115: 'Adopted', 10118: 'Adopted', 10121: 'Adopted', 10153: 'Adopted', 10159: 'Adopted', 10167: 'Adopted', 10177: 'Adopted', 10199: 'Adopted', 10207: 'Adopted', 10211: 'Adopted', 10212: 'Adopted', 10222: 'Adopted', 10225: 'Adopted', 10230: 'Adopted', 10233: 'Adopted', 10234: 'Adopted', 10238: 'Adopted', 10244: 'Adopted', 10246: 'Adopted', 10251: 'Adopted', 10258: 'Adopted', 10265: 'Adopted', 10277: 'Adopted', 10281: 'Adopted', 10283: 'Adopted', 10299: 'Adopted', 10303: 'Adopted', 10307: 'Adopted', 10311: 'Adopted', 10316: 'Adopted', 10320: 'Adopted', 10322: 'Adopted', 10332: 'Adopted', 10335: 'Adopted', 10339: 'Adopted', 10349: 'Adopted', 10352: 'Adopted', 10355: 'Adopted', 10357: 'Adopted', 10363: 'Adopted', 10367: 'Adopted', 10371: 'Adopted', 10372: 'Adopted', 10388: 'Adopted', 10394: 'Adopted', 10397: 'Adopted', 10401: 'Adopted', 10406: 'Adopted', 10412: 'Adopted', 10430: 'Adopted', 10433: 'Adopted', 10434: 'Adopted', 10437: 'Adopted', 10446: 'Adopted', 10447: 'Adopted', 10448: 'Adopted', 10459: 'Adopted', 10465: 'Adopted', 10470: 'Adopted', 10473: 'Adopted', 10497: 'Adopted', 10507: 'Adopted', 10514: 'Adopted', 10519: 'Adopted', 10520: 'Adopted', 10523: 'Adopted', 10524: 'Adopted', 10526: 'Adopted', 10554: 'Adopted', 10574: 'Adopted', 10580: 'Adopted', 10582: 'Adopted', 10585: 'Adopted', 10599: 'Adopted', 10602: 'Adopted', 10611: 'Adopted', 10617: 'Adopted', 10619: 'Adopted', 10621: 'Adopted', 10626: 'Adopted', 10630: 'Adopted', 10634: 'Adopted', 10639: 'Adopted', 10644: 'Adopted', 10647: 'Adopted', 10656: 'Adopted', 10663: 'Adopted', 10674: 'Adopted', 10678: 'Adopted', 10679: 'Adopted', 10683: 'Adopted', 10696: 'Adopted', 10708: 'Adopted', 10725: 'Adopted', 10734: 'Adopted', 10737: 'Adopted', 10745: 'Adopted', 10746: 'Adopted', 10750: 'Adopted', 10753: 'Adopted', 10756: 'Adopted', 10757: 'Adopted', 10763: 'Adopted', 10785: 'Adopted', 10787: 'Adopted', 10791: 'Adopted', 10792: 'Adopted', 10811: 'Adopted', 10812: 'Adopted', 10827: 'Adopted', 10832: 'Adopted', 10833: 'Adopted', 10834: 'Adopted', 10840: 'Adopted', 10843: 'Adopted', 10851: 'Adopted', 10858: 'Adopted', 10860: 'Adopted', 10866: 'Adopted', 10867: 'Adopted', 10869: 'Adopted', 10870: 'Adopted', 10876: 'Adopted', 10885: 'Adopted', 10892: 'Adopted', 10911: 'Adopted', 10913: 'Adopted', 10928: 'Adopted', 10937: 'Adopted', 10945: 'Adopted', 10953: 'Adopted', 10958: 'Adopted', 10961: 'Adopted', 11003: 'Adopted', 11004: 'Adopted', 11010: 'Adopted', 11015: 'Adopted', 11021: 'Adopted', 11024: 'Adopted', 11032: 'Adopted', 11036: 'Adopted', 11039: 'Adopted', 11056: 'Adopted', 11061: 'Adopted', 11065: 'Adopted', 11067: 'Adopted', 11072: 'Adopted', 11083: 'Adopted', 11086: 'Adopted', 11093: 'Adopted', 11100: 'Adopted', 11112: 'Adopted', 11130: 'Adopted', 11144: 'Adopted', 11160: 'Adopted', 11169: 'Adopted', 11170: 'Adopted', 11176: 'Adopted', 11186: 'Adopted', 11195: 'Adopted', 11198: 'Adopted', 11206: 'Adopted', 11212: 'Adopted', 11223: 'Adopted', 11240: 'Adopted', 11254: 'Adopted', 11263: 'Adopted', 11267: 'Adopted', 11270: 'Adopted', 11272: 'Adopted', 11273: 'Adopted', 11294: 'Adopted', 11300: 'Adopted', 11306: 'Adopted', 11310: 'Adopted', 11314: 'Adopted', 11320: 'Adopted', 11327: 'Adopted', 11341: 'Adopted', 11344: 'Adopted', 11347: 'Adopted', 11349: 'Adopted', 11357: 'Adopted', 11377: 'Adopted', 11379: 'Adopted', 11388: 'Adopted', 11404: 'Adopted', 11406: 'Adopted', 11412: 'Adopted', 11415: 'Adopted', 11421: 'Adopted', 11423: 'Adopted', 11428: 'Adopted', 11450: 'Adopted', 11452: 'Adopted', 11465: 'Adopted', 11469: 'Adopted', 11479: 'Adopted', 11487: 'Adopted', 11500: 'Adopted', 11519: 'Adopted', 11527: 'Adopted', 11530: 'Adopted', 11533: 'Adopted', 11537: 'Adopted', 11541: 'Adopted', 11559: 'Adopted', 11567: 'Adopted', 11570: 'Adopted', 11573: 'Adopted', 11578: 'Adopted', 11588: 'Adopted', 11591: 'Adopted', 11593: 'Adopted', 11596: 'Adopted', 11599: 'Adopted', 11600: 'Adopted', 11604: 'Adopted', 11622: 'Adopted', 11627: 'Adopted', 11637: 'Adopted', 11642: 'Adopted', 11660: 'Adopted', 11662: 'Adopted', 11671: 'Adopted', 11682: 'Adopted', 11683: 'Adopted', 11688: 'Adopted', 11702: 'Adopted', 11728: 'Adopted', 11730: 'Adopted', 11732: 'Adopted', 11738: 'Adopted', 11758: 'Adopted', 11762: 'Adopted', 11764: 'Adopted', 11769: 'Adopted', 11773: 'Adopted', 11782: 'Adopted', 11796: 'Adopted', 11801: 'Adopted', 11805: 'Adopted', 11806: 'Adopted', 11823: 'Adopted', 11836: 'Adopted', 11841: 'Adopted', 11857: 'Adopted', 11869: 'Adopted', 11873: 'Adopted', 11885: 'Adopted', 11895: 'Adopted', 11902: 'Adopted', 11909: 'Adopted', 11913: 'Adopted', 11920: 'Adopted', 11924: 'Adopted', 11939: 'Adopted', 11957: 'Adopted', 11958: 'Adopted', 11959: 'Adopted', 11961: 'Adopted', 11964: 'Adopted', 11965: 'Adopted', 11967: 'Adopted', 11969: 'Adopted', 11975: 'Adopted', 11988: 'Adopted'}\n",
            "[2, 10, 20, 33, 42, 43, 50, 53, 60, 63, 69, 74, 80, 81, 82, 87, 133, 135, 141, 146, 153, 160, 165, 168, 172, 174, 185, 188, 197, 200, 202, 203, 209, 214, 230, 245, 247, 263, 265, 275, 280, 283, 297, 298, 305, 310, 311, 321, 322, 341, 345, 347, 351, 362, 363, 370, 383, 397, 401, 418, 430, 445, 450, 460, 462, 469, 471, 472, 478, 479, 483, 492, 494, 497, 502, 506, 509, 510, 512, 518, 520, 522, 529, 535, 540, 547, 553, 564, 572, 589, 591, 601, 603, 605, 618, 627, 628, 632, 634, 639, 669, 679, 680, 717, 724, 725, 728, 754, 772, 783, 786, 804, 828, 845, 851, 869, 874, 882, 885, 901, 906, 907, 912, 928, 932, 934, 937, 943, 953, 980, 985, 1007, 1009, 1013, 1017, 1018, 1026, 1027, 1035, 1039, 1055, 1061, 1072, 1089, 1093, 1094, 1099, 1106, 1107, 1119, 1123, 1124, 1128, 1129, 1136, 1145, 1150, 1151, 1155, 1156, 1163, 1173, 1186, 1196, 1202, 1212, 1214, 1222, 1233, 1235, 1238, 1242, 1245, 1250, 1274, 1280, 1290, 1303, 1318, 1319, 1320, 1327, 1339, 1343, 1345, 1350, 1357, 1361, 1368, 1379, 1396, 1407, 1410, 1411, 1421, 1434, 1464, 1472, 1476, 1479, 1480, 1481, 1485, 1506, 1507, 1508, 1525, 1546, 1555, 1561, 1576, 1581, 1592, 1598, 1617, 1624, 1641, 1663, 1665, 1666, 1671, 1672, 1681, 1690, 1693, 1694, 1709, 1714, 1716, 1717, 1722, 1726, 1730, 1740, 1754, 1758, 1759, 1769, 1770, 1781, 1783, 1786, 1811, 1816, 1820, 1821, 1822, 1825, 1836, 1845, 1865, 1872, 1879, 1885, 1897, 1907, 1930, 1941, 1944, 1954, 1974, 1993, 1999, 2002, 2009, 2011, 2013, 2025, 2033, 2037, 2038, 2042, 2043, 2049, 2056, 2073, 2074, 2078, 2080, 2103, 2111, 2112, 2113, 2124, 2129, 2159, 2160, 2171, 2176, 2193, 2199, 2201, 2239, 2241, 2246, 2253, 2270, 2271, 2278, 2282, 2286, 2289, 2290, 2297, 2300, 2307, 2312, 2316, 2322, 2324, 2333, 2337, 2339, 2357, 2361, 2371, 2390, 2399, 2400, 2406, 2425, 2435, 2438, 2447, 2474, 2481, 2490, 2495, 2502, 2519, 2539, 2544, 2548, 2557, 2566, 2568, 2569, 2570, 2571, 2583, 2587, 2590, 2604, 2610, 2615, 2618, 2620, 2622, 2626, 2636, 2641, 2645, 2647, 2658, 2672, 2681, 2713, 2723, 2724, 2727, 2731, 2739, 2744, 2750, 2762, 2771, 2787, 2798, 2809, 2832, 2836, 2841, 2843, 2851, 2857, 2859, 2866, 2870, 2881, 2886, 2887, 2889, 2891, 2895, 2915, 2918, 2921, 2931, 2939, 2945, 2946, 2948, 2952, 2969, 2974, 2979, 2993, 3014, 3017, 3018, 3025, 3026, 3028, 3032, 3036, 3039, 3046, 3052, 3053, 3059, 3063, 3066, 3067, 3071, 3076, 3077, 3080, 3081, 3087, 3093, 3100, 3112, 3113, 3125, 3137, 3139, 3145, 3160, 3163, 3175, 3179, 3180, 3185, 3193, 3194, 3204, 3205, 3207, 3217, 3222, 3226, 3232, 3235, 3238, 3239, 3240, 3244, 3269, 3273, 3280, 3294, 3311, 3317, 3324, 3332, 3338, 3339, 3347, 3353, 3360, 3370, 3378, 3381, 3387, 3389, 3390, 3397, 3405, 3409, 3411, 3426, 3428, 3436, 3451, 3463, 3481, 3484, 3493, 3502, 3517, 3522, 3525, 3531, 3541, 3546, 3556, 3560, 3561, 3562, 3567, 3574, 3577, 3578, 3592, 3593, 3597, 3598, 3601, 3609, 3612, 3617, 3623, 3638, 3641, 3642, 3644, 3652, 3671, 3673, 3675, 3695, 3705, 3717, 3718, 3739, 3749, 3752, 3757, 3758, 3762, 3765, 3772, 3774, 3802, 3804, 3812, 3819, 3824, 3832, 3843, 3852, 3859, 3862, 3863, 3866, 3867, 3881, 3882, 3906, 3915, 3946, 3956, 3957, 3960, 3970, 4007, 4009, 4017, 4018, 4019, 4022, 4029, 4031, 4041, 4043, 4045, 4052, 4065, 4067, 4074, 4086, 4090, 4093, 4105, 4106, 4134, 4140, 4141, 4143, 4145, 4156, 4158, 4167, 4171, 4181, 4182, 4184, 4186, 4203, 4206, 4208, 4209, 4216, 4217, 4218, 4223, 4234, 4243, 4244, 4248, 4255, 4258, 4263, 4266, 4268, 4269, 4278, 4282, 4295, 4296, 4317, 4330, 4335, 4349, 4350, 4353, 4354, 4371, 4384, 4388, 4396, 4402, 4403, 4404, 4421, 4425, 4428, 4433, 4444, 4446, 4467, 4472, 4481, 4485, 4489, 4494, 4497, 4511, 4513, 4519, 4558, 4560, 4561, 4562, 4564, 4565, 4569, 4571, 4576, 4580, 4582, 4589, 4600, 4609, 4611, 4612, 4616, 4618, 4619, 4625, 4680, 4685, 4709, 4713, 4715, 4720, 4730, 4742, 4745, 4753, 4760, 4778, 4780, 4784, 4785, 4793, 4803, 4805, 4812, 4824, 4826, 4832, 4835, 4837, 4839, 4844, 4854, 4869, 4870, 4876, 4884, 4886, 4902, 4915, 4921, 4924, 4934, 4935, 4943, 4950, 4954, 4961, 4965, 4966, 4969, 4974, 4992, 5013, 5015, 5027, 5057, 5063, 5067, 5069, 5071, 5073, 5100, 5101, 5103, 5115, 5127, 5151, 5153, 5156, 5157, 5160, 5167, 5173, 5180, 5200, 5210, 5211, 5215, 5225, 5240, 5243, 5259, 5281, 5297, 5301, 5307, 5309, 5329, 5350, 5351, 5360, 5362, 5364, 5365, 5369, 5378, 5385, 5386, 5397, 5407, 5412, 5415, 5426, 5428, 5432, 5441, 5445, 5456, 5463, 5467, 5479, 5483, 5494, 5507, 5508, 5514, 5516, 5527, 5528, 5532, 5547, 5551, 5552, 5557, 5560, 5571, 5579, 5586, 5600, 5607, 5609, 5620, 5623, 5638, 5645, 5655, 5663, 5666, 5677, 5681, 5682, 5685, 5704, 5705, 5714, 5718, 5721, 5722, 5723, 5725, 5726, 5741, 5743, 5756, 5777, 5806, 5828, 5830, 5832, 5840, 5847, 5850, 5853, 5861, 5866, 5892, 5900, 5905, 5915, 5918, 5927, 5939, 5944, 5950, 5960, 5965, 5970, 5977, 5993, 6016, 6033, 6044, 6050, 6061, 6064, 6070, 6096, 6100, 6103, 6108, 6114, 6126, 6134, 6135, 6136, 6148, 6152, 6170, 6171, 6180, 6184, 6187, 6198, 6204, 6205, 6210, 6217, 6232, 6236, 6238, 6239, 6242, 6246, 6258, 6266, 6270, 6279, 6281, 6282, 6284, 6285, 6293, 6296, 6302, 6305, 6312, 6321, 6322, 6342, 6349, 6357, 6367, 6370, 6388, 6393, 6401, 6405, 6416, 6419, 6427, 6438, 6462, 6463, 6464, 6470, 6482, 6504, 6506, 6517, 6532, 6590, 6597, 6609, 6617, 6623, 6627, 6633, 6637, 6638, 6640, 6653, 6654, 6662, 6688, 6729, 6731, 6733, 6734, 6741, 6742, 6751, 6757, 6759, 6771, 6782, 6786, 6810, 6827, 6832, 6835, 6851, 6856, 6862, 6865, 6866, 6870, 6886, 6893, 6894, 6895, 6909, 6913, 6914, 6922, 6924, 6938, 6956, 6963, 6965, 6966, 6971, 6978, 6981, 6982, 6988, 6992, 6993, 6998, 7004, 7015, 7019, 7023, 7029, 7071, 7074, 7096, 7097, 7101, 7104, 7107, 7111, 7114, 7120, 7131, 7153, 7156, 7172, 7173, 7192, 7194, 7198, 7205, 7209, 7210, 7215, 7234, 7242, 7248, 7257, 7283, 7301, 7323, 7327, 7351, 7362, 7375, 7378, 7380, 7384, 7386, 7398, 7399, 7401, 7403, 7405, 7409, 7411, 7431, 7436, 7441, 7443, 7449, 7450, 7475, 7493, 7511, 7518, 7529, 7536, 7538, 7544, 7555, 7556, 7572, 7587, 7590, 7598, 7600, 7608, 7613, 7618, 7624, 7641, 7644, 7654, 7655, 7670, 7678, 7682, 7683, 7688, 7691, 7696, 7697, 7705, 7707, 7720, 7760, 7764, 7772, 7774, 7786, 7789, 7792, 7798, 7805, 7813, 7818, 7820, 7827, 7839, 7848, 7858, 7859, 7868, 7873, 7878, 7882, 7896, 7897, 7899, 7905, 7920, 7926, 7927, 7939, 7951, 7970, 7971, 7979, 7980, 7989, 7991, 7999, 8010, 8022, 8025, 8029, 8031, 8033, 8034, 8037, 8046, 8048, 8063, 8068, 8069, 8070, 8071, 8075, 8084, 8091, 8101, 8104, 8111, 8123, 8130, 8134, 8137, 8149, 8156, 8159, 8161, 8166, 8169, 8191, 8192, 8196, 8201, 8214, 8217, 8220, 8221, 8232, 8233, 8235, 8239, 8243, 8252, 8255, 8258, 8259, 8265, 8270, 8277, 8278, 8280, 8294, 8297, 8310, 8311, 8319, 8334, 8348, 8366, 8371, 8381, 8383, 8393, 8394, 8399, 8401, 8403, 8408, 8415, 8426, 8435, 8440, 8442, 8448, 8460, 8463, 8466, 8493, 8505, 8507, 8508, 8511, 8523, 8538, 8553, 8569, 8571, 8581, 8593, 8595, 8601, 8602, 8615, 8622, 8639, 8640, 8654, 8673, 8675, 8677, 8679, 8689, 8695, 8701, 8704, 8706, 8708, 8712, 8721, 8725, 8740, 8741, 8749, 8750, 8760, 8767, 8768, 8769, 8770, 8779, 8789, 8790, 8803, 8806, 8809, 8811, 8827, 8832, 8835, 8837, 8856, 8857, 8860, 8862, 8864, 8869, 8876, 8880, 8884, 8899, 8912, 8918, 8924, 8932, 8944, 8945, 8952, 8955, 8957, 8989, 9011, 9013, 9030, 9031, 9039, 9042, 9046, 9060, 9076, 9079, 9083, 9089, 9112, 9113, 9120, 9142, 9143, 9145, 9147, 9157, 9164, 9172, 9195, 9222, 9257, 9269, 9281, 9286, 9290, 9295, 9303, 9306, 9312, 9322, 9325, 9343, 9344, 9345, 9346, 9358, 9359, 9362, 9374, 9381, 9383, 9390, 9400, 9402, 9423, 9432, 9434, 9435, 9436, 9445, 9450, 9461, 9464, 9470, 9477, 9479, 9481, 9486, 9495, 9504, 9510, 9524, 9532, 9535, 9540, 9542, 9558, 9559, 9571, 9580, 9582, 9584, 9591, 9593, 9597, 9601, 9615, 9616, 9623, 9635, 9641, 9644, 9645, 9652, 9660, 9670, 9679, 9683, 9684, 9691, 9694, 9695, 9699, 9717, 9722, 9724, 9727, 9728, 9742, 9746, 9747, 9751, 9754, 9768, 9771, 9786, 9806, 9823, 9825, 9833, 9839, 9841, 9843, 9845, 9850, 9852, 9863, 9868, 9870, 9889, 9897, 9901, 9914, 9925, 9936, 9941, 9942, 9947, 9948, 9958, 9961, 9963, 9965, 9968, 9972, 9974, 9985, 9991, 9992, 9994, 9999, 10002, 10006, 10011, 10020, 10022, 10023, 10025, 10053, 10059, 10062, 10100, 10102, 10104, 10115, 10118, 10121, 10153, 10159, 10167, 10177, 10199, 10207, 10211, 10212, 10222, 10225, 10230, 10233, 10234, 10238, 10244, 10246, 10251, 10258, 10265, 10277, 10281, 10283, 10299, 10303, 10307, 10311, 10316, 10320, 10322, 10332, 10335, 10339, 10349, 10352, 10355, 10357, 10363, 10367, 10371, 10372, 10388, 10394, 10397, 10401, 10406, 10412, 10430, 10433, 10434, 10437, 10446, 10447, 10448, 10459, 10465, 10470, 10473, 10497, 10507, 10514, 10519, 10520, 10523, 10524, 10526, 10554, 10574, 10580, 10582, 10585, 10599, 10602, 10611, 10617, 10619, 10621, 10626, 10630, 10634, 10639, 10644, 10647, 10656, 10663, 10674, 10678, 10679, 10683, 10696, 10708, 10725, 10734, 10737, 10745, 10746, 10750, 10753, 10756, 10757, 10763, 10785, 10787, 10791, 10792, 10811, 10812, 10827, 10832, 10833, 10834, 10840, 10843, 10851, 10858, 10860, 10866, 10867, 10869, 10870, 10876, 10885, 10892, 10911, 10913, 10928, 10937, 10945, 10953, 10958, 10961, 11003, 11004, 11010, 11015, 11021, 11024, 11032, 11036, 11039, 11056, 11061, 11065, 11067, 11072, 11083, 11086, 11093, 11100, 11112, 11130, 11144, 11160, 11169, 11170, 11176, 11186, 11195, 11198, 11206, 11212, 11223, 11240, 11254, 11263, 11267, 11270, 11272, 11273, 11294, 11300, 11306, 11310, 11314, 11320, 11327, 11341, 11344, 11347, 11349, 11357, 11377, 11379, 11388, 11404, 11406, 11412, 11415, 11421, 11423, 11428, 11450, 11452, 11465, 11469, 11479, 11487, 11500, 11519, 11527, 11530, 11533, 11537, 11541, 11559, 11567, 11570, 11573, 11578, 11588, 11591, 11593, 11596, 11599, 11600, 11604, 11622, 11627, 11637, 11642, 11660, 11662, 11671, 11682, 11683, 11688, 11702, 11728, 11730, 11732, 11738, 11758, 11762, 11764, 11769, 11773, 11782, 11796, 11801, 11805, 11806, 11823, 11836, 11841, 11857, 11869, 11873, 11885, 11895, 11902, 11909, 11913, 11920, 11924, 11939, 11957, 11958, 11959, 11961, 11964, 11965, 11967, 11969, 11975, 11988]\n",
            "1656\n"
          ]
        }
      ]
    },
    {
      "cell_type": "code",
      "source": [
        "df_adopted = pd.DataFrame(adopted_users,columns = ['object_id'])\n",
        "#print(df_adopted)\n",
        "\n",
        "final_adopted = pd.merge(df_adopted, df1, on ='object_id', how ='inner')\n",
        "print(final_adopted.head(5))"
      ],
      "metadata": {
        "colab": {
          "base_uri": "https://localhost:8080/"
        },
        "id": "ysbvCxN9p7kF",
        "outputId": "2e855760-2b6c-472a-b185-05a724e8302a"
      },
      "execution_count": 4,
      "outputs": [
        {
          "output_type": "stream",
          "name": "stdout",
          "text": [
            "   object_id     creation_time            name                          email  \\\n",
            "0          2   11/15/2013 3:45   Poole Matthew         MatthewPoole@gustr.com   \n",
            "1         10   1/16/2013 22:08    Santos Carla  CarlaFerreiraSantos@gustr.com   \n",
            "2         20    3/6/2014 11:46   Helms Mikayla             lqyvjilf@uhzdq.com   \n",
            "3         33    3/11/2014 6:29     Araujo José     JoseMartinsAraujo@cuvox.de   \n",
            "4         42  11/11/2012 19:05  Pinto Giovanna    GiovannaCunhaPinto@cuvox.de   \n",
            "\n",
            "  creation_source  last_session_creation_time  opted_in_to_mailing_list  \\\n",
            "0      ORG_INVITE                1.396238e+09                         0   \n",
            "1      ORG_INVITE                1.401833e+09                         1   \n",
            "2          SIGNUP                1.401364e+09                         0   \n",
            "3    GUEST_INVITE                1.401518e+09                         0   \n",
            "4          SIGNUP                1.401045e+09                         1   \n",
            "\n",
            "   enabled_for_marketing_drip  org_id  invited_by_user_id  \n",
            "0                           0       1               316.0  \n",
            "1                           1     318              4143.0  \n",
            "2                           0      58                 NaN  \n",
            "3                           0     401                79.0  \n",
            "4                           0     235                 NaN  \n"
          ]
        }
      ]
    },
    {
      "cell_type": "code",
      "source": [
        "# relation between Creation_source and Adoption\n",
        "based_creation_src = final_adopted['creation_source'].value_counts()\n",
        "print(based_creation_src)\n",
        "based_creation_src.plot(kind = 'pie')"
      ],
      "metadata": {
        "colab": {
          "base_uri": "https://localhost:8080/",
          "height": 369
        },
        "id": "VOWQaFAe6V7I",
        "outputId": "a1762119-b901-4d44-c969-c65635decf0d"
      },
      "execution_count": 5,
      "outputs": [
        {
          "output_type": "stream",
          "name": "stdout",
          "text": [
            "ORG_INVITE            574\n",
            "GUEST_INVITE          369\n",
            "SIGNUP                302\n",
            "SIGNUP_GOOGLE_AUTH    239\n",
            "PERSONAL_PROJECTS     172\n",
            "Name: creation_source, dtype: int64\n"
          ]
        },
        {
          "output_type": "execute_result",
          "data": {
            "text/plain": [
              "<matplotlib.axes._subplots.AxesSubplot at 0x7fb5ff3eb650>"
            ]
          },
          "metadata": {},
          "execution_count": 5
        },
        {
          "output_type": "display_data",
          "data": {
            "text/plain": [
              "<Figure size 432x288 with 1 Axes>"
            ],
            "image/png": "[encoded data removed]"
          },
          "metadata": {}
        }
      ]
    },
    {
      "cell_type": "markdown",
      "source": [
        "\n",
        "*   Total no. of users = 12000\n",
        "*   total no. of adopted users = 1656\n",
        "\n",
        "**Of all the existing adopted users, more than 50% are created by Org_invite or Guest_invite. Hence, future users being created by Org_invite/Guest_invite are more likely to become adopted**"
      ],
      "metadata": {
        "id": "Ob6WpYVsEAVQ"
      }
    },
    {
      "cell_type": "code",
      "source": [
        "#relation between opted_in_to_mailing_list and adoption\n",
        "based_opted_mailing = final_adopted['opted_in_to_mailing_list'].value_counts()\n",
        "print(based_opted_mailing)\n",
        "based_marketing_drip = final_adopted['enabled_for_marketing_drip'].value_counts()\n",
        "print(based_marketing_drip)\n",
        "final_adopted[(final_adopted['opted_in_to_mailing_list'] == 1) | (final_adopted['enabled_for_marketing_drip'] == 1)]\n"
      ],
      "metadata": {
        "id": "dDbhOhZUEu5R",
        "colab": {
          "base_uri": "https://localhost:8080/",
          "height": 748
        },
        "outputId": "e05bad49-9ce5-48fc-8265-cfe4a013646a"
      },
      "execution_count": 10,
      "outputs": [
        {
          "output_type": "stream",
          "name": "stdout",
          "text": [
            "0    1227\n",
            "1     429\n",
            "Name: opted_in_to_mailing_list, dtype: int64\n",
            "0    1399\n",
            "1     257\n",
            "Name: enabled_for_marketing_drip, dtype: int64\n"
          ]
        },
        {
          "output_type": "execute_result",
          "data": {
            "text/plain": [
              "      object_id     creation_time             name  \\\n",
              "1            10   1/16/2013 22:08     Santos Carla   \n",
              "4            42  11/11/2012 19:05   Pinto Giovanna   \n",
              "12           80   2/28/2014 21:30     Silva Samuel   \n",
              "13           81    6/26/2013 3:57   Cardoso Rafael   \n",
              "15           87   9/11/2013 22:53  Martins Isabela   \n",
              "...         ...               ...              ...   \n",
              "1642      11913    1/30/2014 5:50     Woolcock Sam   \n",
              "1647      11958    5/25/2013 6:28        Leake Taj   \n",
              "1648      11959   9/24/2012 23:34      Walsh Aidan   \n",
              "1653      11969     6/1/2013 0:48  Dickinson Aidan   \n",
              "1654      11975   3/23/2013 11:10   Daecher Jürgen   \n",
              "\n",
              "                                     email    creation_source  \\\n",
              "1            CarlaFerreiraSantos@gustr.com         ORG_INVITE   \n",
              "4              GiovannaCunhaPinto@cuvox.de             SIGNUP   \n",
              "12       SamuelBarbosaSilva@jourrapide.com         ORG_INVITE   \n",
              "13            RafaelCostaCardoso@yahoo.com  PERSONAL_PROJECTS   \n",
              "15    IsabelaAzevedoMartins@jourrapide.com             SIGNUP   \n",
              "...                                    ...                ...   \n",
              "1642                    mlwzirju@xdxgl.com             SIGNUP   \n",
              "1647                    TajLeake@gmail.com             SIGNUP   \n",
              "1648                   AidanWalsh@cuvox.de       GUEST_INVITE   \n",
              "1653            AidanDickinson@hotmail.com       GUEST_INVITE   \n",
              "1654               JurgenDaecher@gustr.com       GUEST_INVITE   \n",
              "\n",
              "      last_session_creation_time  opted_in_to_mailing_list  \\\n",
              "1                   1.401833e+09                         1   \n",
              "4                   1.401045e+09                         1   \n",
              "12                  1.399239e+09                         1   \n",
              "13                  1.401249e+09                         1   \n",
              "15                  1.400799e+09                         1   \n",
              "...                          ...                       ...   \n",
              "1642                1.400738e+09                         1   \n",
              "1647                1.400049e+09                         1   \n",
              "1648                1.401666e+09                         1   \n",
              "1653                1.401411e+09                         1   \n",
              "1654                1.400757e+09                         1   \n",
              "\n",
              "      enabled_for_marketing_drip  org_id  invited_by_user_id  \n",
              "1                              1     318              4143.0  \n",
              "4                              0     235                 NaN  \n",
              "12                             1      49               238.0  \n",
              "13                             0     185                 NaN  \n",
              "15                             0      26                 NaN  \n",
              "...                          ...     ...                 ...  \n",
              "1642                           1      38                 NaN  \n",
              "1647                           0     176                 NaN  \n",
              "1648                           1     105              5093.0  \n",
              "1653                           1      52              6647.0  \n",
              "1654                           0      31              6410.0  \n",
              "\n",
              "[490 rows x 10 columns]"
            ],
            "text/html": [
              "\n",
              "  <div id=\"df-6ebbdb60-c5b1-4af9-8e7c-0082c559872a\">\n",
              "    <div class=\"colab-df-container\">\n",
              "      <div>\n",
              "<style scoped>\n",
              "    .dataframe tbody tr th:only-of-type {\n",
              "        vertical-align: middle;\n",
              "    }\n",
              "\n",
              "    .dataframe tbody tr th {\n",
              "        vertical-align: top;\n",
              "    }\n",
              "\n",
              "    .dataframe thead th {\n",
              "        text-align: right;\n",
              "    }\n",
              "</style>\n",
              "<table border=\"1\" class=\"dataframe\">\n",
              "  <thead>\n",
              "    <tr style=\"text-align: right;\">\n",
              "      <th></th>\n",
              "      <th>object_id</th>\n",
              "      <th>creation_time</th>\n",
              "      <th>name</th>\n",
              "      <th>email</th>\n",
              "      <th>creation_source</th>\n",
              "      <th>last_session_creation_time</th>\n",
              "      <th>opted_in_to_mailing_list</th>\n",
              "      <th>enabled_for_marketing_drip</th>\n",
              "      <th>org_id</th>\n",
              "      <th>invited_by_user_id</th>\n",
              "    </tr>\n",
              "  </thead>\n",
              "  <tbody>\n",
              "    <tr>\n",
              "      <th>1</th>\n",
              "      <td>10</td>\n",
              "      <td>1/16/2013 22:08</td>\n",
              "      <td>Santos Carla</td>\n",
              "      <td>CarlaFerreiraSantos@gustr.com</td>\n",
              "      <td>ORG_INVITE</td>\n",
              "      <td>1.401833e+09</td>\n",
              "      <td>1</td>\n",
              "      <td>1</td>\n",
              "      <td>318</td>\n",
              "      <td>4143.0</td>\n",
              "    </tr>\n",
              "    <tr>\n",
              "      <th>4</th>\n",
              "      <td>42</td>\n",
              "      <td>11/11/2012 19:05</td>\n",
              "      <td>Pinto Giovanna</td>\n",
              "      <td>GiovannaCunhaPinto@cuvox.de</td>\n",
              "      <td>SIGNUP</td>\n",
              "      <td>1.401045e+09</td>\n",
              "      <td>1</td>\n",
              "      <td>0</td>\n",
              "      <td>235</td>\n",
              "      <td>NaN</td>\n",
              "    </tr>\n",
              "    <tr>\n",
              "      <th>12</th>\n",
              "      <td>80</td>\n",
              "      <td>2/28/2014 21:30</td>\n",
              "      <td>Silva Samuel</td>\n",
              "      <td>SamuelBarbosaSilva@jourrapide.com</td>\n",
              "      <td>ORG_INVITE</td>\n",
              "      <td>1.399239e+09</td>\n",
              "      <td>1</td>\n",
              "      <td>1</td>\n",
              "      <td>49</td>\n",
              "      <td>238.0</td>\n",
              "    </tr>\n",
              "    <tr>\n",
              "      <th>13</th>\n",
              "      <td>81</td>\n",
              "      <td>6/26/2013 3:57</td>\n",
              "      <td>Cardoso Rafael</td>\n",
              "      <td>RafaelCostaCardoso@yahoo.com</td>\n",
              "      <td>PERSONAL_PROJECTS</td>\n",
              "      <td>1.401249e+09</td>\n",
              "      <td>1</td>\n",
              "      <td>0</td>\n",
              "      <td>185</td>\n",
              "      <td>NaN</td>\n",
              "    </tr>\n",
              "    <tr>\n",
              "      <th>15</th>\n",
              "      <td>87</td>\n",
              "      <td>9/11/2013 22:53</td>\n",
              "      <td>Martins Isabela</td>\n",
              "      <td>IsabelaAzevedoMartins@jourrapide.com</td>\n",
              "      <td>SIGNUP</td>\n",
              "      <td>1.400799e+09</td>\n",
              "      <td>1</td>\n",
              "      <td>0</td>\n",
              "      <td>26</td>\n",
              "      <td>NaN</td>\n",
              "    </tr>\n",
              "    <tr>\n",
              "      <th>...</th>\n",
              "      <td>...</td>\n",
              "      <td>...</td>\n",
              "      <td>...</td>\n",
              "      <td>...</td>\n",
              "      <td>...</td>\n",
              "      <td>...</td>\n",
              "      <td>...</td>\n",
              "      <td>...</td>\n",
              "      <td>...</td>\n",
              "      <td>...</td>\n",
              "    </tr>\n",
              "    <tr>\n",
              "      <th>1642</th>\n",
              "      <td>11913</td>\n",
              "      <td>1/30/2014 5:50</td>\n",
              "      <td>Woolcock Sam</td>\n",
              "      <td>mlwzirju@xdxgl.com</td>\n",
              "      <td>SIGNUP</td>\n",
              "      <td>1.400738e+09</td>\n",
              "      <td>1</td>\n",
              "      <td>1</td>\n",
              "      <td>38</td>\n",
              "      <td>NaN</td>\n",
              "    </tr>\n",
              "    <tr>\n",
              "      <th>1647</th>\n",
              "      <td>11958</td>\n",
              "      <td>5/25/2013 6:28</td>\n",
              "      <td>Leake Taj</td>\n",
              "      <td>TajLeake@gmail.com</td>\n",
              "      <td>SIGNUP</td>\n",
              "      <td>1.400049e+09</td>\n",
              "      <td>1</td>\n",
              "      <td>0</td>\n",
              "      <td>176</td>\n",
              "      <td>NaN</td>\n",
              "    </tr>\n",
              "    <tr>\n",
              "      <th>1648</th>\n",
              "      <td>11959</td>\n",
              "      <td>9/24/2012 23:34</td>\n",
              "      <td>Walsh Aidan</td>\n",
              "      <td>AidanWalsh@cuvox.de</td>\n",
              "      <td>GUEST_INVITE</td>\n",
              "      <td>1.401666e+09</td>\n",
              "      <td>1</td>\n",
              "      <td>1</td>\n",
              "      <td>105</td>\n",
              "      <td>5093.0</td>\n",
              "    </tr>\n",
              "    <tr>\n",
              "      <th>1653</th>\n",
              "      <td>11969</td>\n",
              "      <td>6/1/2013 0:48</td>\n",
              "      <td>Dickinson Aidan</td>\n",
              "      <td>AidanDickinson@hotmail.com</td>\n",
              "      <td>GUEST_INVITE</td>\n",
              "      <td>1.401411e+09</td>\n",
              "      <td>1</td>\n",
              "      <td>1</td>\n",
              "      <td>52</td>\n",
              "      <td>6647.0</td>\n",
              "    </tr>\n",
              "    <tr>\n",
              "      <th>1654</th>\n",
              "      <td>11975</td>\n",
              "      <td>3/23/2013 11:10</td>\n",
              "      <td>Daecher Jürgen</td>\n",
              "      <td>JurgenDaecher@gustr.com</td>\n",
              "      <td>GUEST_INVITE</td>\n",
              "      <td>1.400757e+09</td>\n",
              "      <td>1</td>\n",
              "      <td>0</td>\n",
              "      <td>31</td>\n",
              "      <td>6410.0</td>\n",
              "    </tr>\n",
              "  </tbody>\n",
              "</table>\n",
              "<p>490 rows × 10 columns</p>\n",
              "</div>\n",
              "      <button class=\"colab-df-convert\" onclick=\"convertToInteractive('df-6ebbdb60-c5b1-4af9-8e7c-0082c559872a')\"\n",
              "              title=\"Convert this dataframe to an interactive table.\"\n",
              "              style=\"display:none;\">\n",
              "        \n",
              "  <svg xmlns=\"http://www.w3.org/2000/svg\" height=\"24px\"viewBox=\"0 0 24 24\"\n",
              "       width=\"24px\">\n",
              "    <path d=\"M0 0h24v24H0V0z\" fill=\"none\"/>\n",
              "    <path d=\"M18.56 5.44l.94 2.06.94-2.06 2.06-.94-2.06-.94-.94-2.06-.94 2.06-2.06.94zm-11 1L8.5 8.5l.94-2.06 2.06-.94-2.06-.94L8.5 2.5l-.94 2.06-2.06.94zm10 10l.94 2.06.94-2.06 2.06-.94-2.06-.94-.94-2.06-.94 2.06-2.06.94z\"/><path d=\"M17.41 7.96l-1.37-1.37c-.4-.4-.92-.59-1.43-.59-.52 0-1.04.2-1.43.59L10.3 9.45l-7.72 7.72c-.78.78-.78 2.05 0 2.83L4 21.41c.39.39.9.59 1.41.59.51 0 1.02-.2 1.41-.59l7.78-7.78 2.81-2.81c.8-.78.8-2.07 0-2.86zM5.41 20L4 18.59l7.72-7.72 1.47 1.35L5.41 20z\"/>\n",
              "  </svg>\n",
              "      </button>\n",
              "      \n",
              "  <style>\n",
              "    .colab-df-container {\n",
              "      display:flex;\n",
              "      flex-wrap:wrap;\n",
              "      gap: 12px;\n",
              "    }\n",
              "\n",
              "    .colab-df-convert {\n",
              "      background-color: #E8F0FE;\n",
              "      border: none;\n",
              "      border-radius: 50%;\n",
              "      cursor: pointer;\n",
              "      display: none;\n",
              "      fill: #1967D2;\n",
              "      height: 32px;\n",
              "      padding: 0 0 0 0;\n",
              "      width: 32px;\n",
              "    }\n",
              "\n",
              "    .colab-df-convert:hover {\n",
              "      background-color: #E2EBFA;\n",
              "      box-shadow: 0px 1px 2px rgba(60, 64, 67, 0.3), 0px 1px 3px 1px rgba(60, 64, 67, 0.15);\n",
              "      fill: #174EA6;\n",
              "    }\n",
              "\n",
              "    [theme=dark] .colab-df-convert {\n",
              "      background-color: #3B4455;\n",
              "      fill: #D2E3FC;\n",
              "    }\n",
              "\n",
              "    [theme=dark] .colab-df-convert:hover {\n",
              "      background-color: #434B5C;\n",
              "      box-shadow: 0px 1px 3px 1px rgba(0, 0, 0, 0.15);\n",
              "      filter: drop-shadow(0px 1px 2px rgba(0, 0, 0, 0.3));\n",
              "      fill: #FFFFFF;\n",
              "    }\n",
              "  </style>\n",
              "\n",
              "      <script>\n",
              "        const buttonEl =\n",
              "          document.querySelector('#df-6ebbdb60-c5b1-4af9-8e7c-0082c559872a button.colab-df-convert');\n",
              "        buttonEl.style.display =\n",
              "          google.colab.kernel.accessAllowed ? 'block' : 'none';\n",
              "\n",
              "        async function convertToInteractive(key) {\n",
              "          const element = document.querySelector('#df-6ebbdb60-c5b1-4af9-8e7c-0082c559872a');\n",
              "          const dataTable =\n",
              "            await google.colab.kernel.invokeFunction('convertToInteractive',\n",
              "                                                     [key], {});\n",
              "          if (!dataTable) return;\n",
              "\n",
              "          const docLinkHtml = 'Like what you see? Visit the ' +\n",
              "            '<a target=\"_blank\" href=https://colab.research.google.com/notebooks/data_table.ipynb>data table notebook</a>'\n",
              "            + ' to learn more about interactive tables.';\n",
              "          element.innerHTML = '';\n",
              "          dataTable['output_type'] = 'display_data';\n",
              "          await google.colab.output.renderOutput(dataTable, element);\n",
              "          const docLink = document.createElement('div');\n",
              "          docLink.innerHTML = docLinkHtml;\n",
              "          element.appendChild(docLink);\n",
              "        }\n",
              "      </script>\n",
              "    </div>\n",
              "  </div>\n",
              "  "
            ]
          },
          "metadata": {},
          "execution_count": 10
        }
      ]
    },
    {
      "cell_type": "markdown",
      "source": [
        "\n",
        "\n",
        "*   no. of adopted users who opted for both email and marketing drip = 196\n",
        "*   no. of adopted users who opted for either of it = 490\n",
        "**No conclusive influence of these behaviors on future users becoming adopted**\n",
        "\n"
      ],
      "metadata": {
        "id": "IXtWiw9Aaver"
      }
    },
    {
      "cell_type": "code",
      "source": [
        "#relation between Org_id and adoption\n",
        "based_org_id = final_adopted['org_id'].value_counts()\n",
        "df_based_org_id = pd.DataFrame(based_org_id)\n",
        "users_org_id = df1['org_id'].value_counts()\n",
        "df_users_org_id = pd.DataFrame(users_org_id)\n",
        "#print(based_org_id)\n",
        "#print(users_org_id)"
      ],
      "metadata": {
        "colab": {
          "base_uri": "https://localhost:8080/"
        },
        "id": "SKpQUwdrbj_B",
        "outputId": "ad6e68cc-f951-4e7c-d00c-90b1aa80284a"
      },
      "execution_count": 15,
      "outputs": [
        {
          "output_type": "stream",
          "name": "stdout",
          "text": [
            "0      319\n",
            "1      233\n",
            "2      201\n",
            "3      168\n",
            "4      159\n",
            "      ... \n",
            "396      9\n",
            "397      8\n",
            "400      8\n",
            "386      7\n",
            "416      2\n",
            "Name: org_id, Length: 417, dtype: int64\n"
          ]
        }
      ]
    },
    {
      "cell_type": "markdown",
      "source": [
        "No clear relation between Org_id and users' adoption"
      ],
      "metadata": {
        "id": "8AGud9h62lid"
      }
    }
  ]
}